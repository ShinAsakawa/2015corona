{
  "nbformat": 4,
  "nbformat_minor": 0,
  "metadata": {
    "colab": {
      "name": "2018colab_ja_Snippets_Drive",
      "version": "0.3.2",
      "provenance": [],
      "collapsed_sections": [],
      "include_colab_link": true
    },
    "kernelspec": {
      "display_name": "Python 3",
      "name": "python3"
    }
  },
  "cells": [
    {
      "cell_type": "markdown",
      "metadata": {
        "id": "view-in-github",
        "colab_type": "text"
      },
      "source": [
        "<a href=\"https://colab.research.google.com/github/ShinAsakawa/2015corona/blob/master/docs/japanized_Snippets_Drive.ipynb\" target=\"_parent\"><img src=\"https://colab.research.google.com/assets/colab-badge.svg\" alt=\"Open In Colab\"/></a>"
      ]
    },
    {
      "metadata": {
        "colab_type": "text",
        "id": "u22w3BFiOveA"
      },
      "cell_type": "markdown",
      "source": [
        "# 自分の仮想マシンにグーグルドライブをマウントする\n",
        "\n",
        "<p align='right'>2018年12月29日</br>浅川伸一 <asakawa@ieee.org></p>\n",
        "\n",
        "この文書は\n",
        "[https://colab.research.google.com/notebooks/snippets/drive.ipynb](https://colab.research.google.com/notebooks/snippets/drive.ipynb)\n",
        "を浅川が便宜のため意訳したものです。\n",
        "従ってオリジナルの著作権は Google Inc. に属します。\n",
        "優れた環境とコンテンツを提供し続ける Google 社に敬意と畏敬の念を表します。\n",
        "\n",
        "Google colaboratory (本環境)上でファイルの入出力を行う方法を示します。\n",
        "\n",
        "1. 直下セルを実行する(実行するにはセルをクリックし，次にシフトキーを押しながらエンターキーまたは改行キーを打鍵します)と認証コードの入力を求められます。\n",
        "2. 指示に従って認証コードを入力することで Google Drive を `gdrive` としてマウントすることができます。"
      ]
    },
    {
      "metadata": {
        "colab_type": "code",
        "id": "7-JR7WQ5O70X",
        "outputId": "72d4f9ab-5bcd-4b9a-d995-97a3a7a5ee01",
        "colab": {
          "base_uri": "https://localhost:8080/",
          "height": 122
        }
      },
      "cell_type": "code",
      "source": [
        "from google.colab import drive\n",
        "drive.mount('/gdrive')"
      ],
      "execution_count": 0,
      "outputs": [
        {
          "output_type": "stream",
          "text": [
            "Go to this URL in a browser: https://accounts.google.com/o/oauth2/auth?client_id=947318989803-6bn6qk8qdgf4n4g3pfee6491hc0brc4i.apps.googleusercontent.com&redirect_uri=urn%3Aietf%3Awg%3Aoauth%3A2.0%3Aoob&scope=email%20https%3A%2F%2Fwww.googleapis.com%2Fauth%2Fdocs.test%20https%3A%2F%2Fwww.googleapis.com%2Fauth%2Fdrive%20https%3A%2F%2Fwww.googleapis.com%2Fauth%2Fdrive.photos.readonly%20https%3A%2F%2Fwww.googleapis.com%2Fauth%2Fpeopleapi.readonly&response_type=code\n",
            "\n",
            "Enter your authorization code:\n",
            "··········\n",
            "Mounted at /gdrive\n"
          ],
          "name": "stdout"
        }
      ]
    },
    {
      "metadata": {
        "id": "AW6vP_JJn0S4",
        "colab_type": "text"
      },
      "cell_type": "markdown",
      "source": [
        "実行結果を確認するには \n",
        "```bash\n",
        "!ls /gdrive\n",
        "```\n",
        "のようにしてください。</br>\n",
        "\n",
        "オリジナルでは `/gdrive` に自分のグーグルドライブの内容がマウントされるとの記述がみられます。ですが，2018年12月29日現在，`/gdrvie/My Drive/` のようです。"
      ]
    },
    {
      "metadata": {
        "id": "8_0pROKOoABs",
        "colab_type": "code",
        "outputId": "28cab604-a6e9-40b0-ccdf-9017d1665874",
        "colab": {
          "base_uri": "https://localhost:8080/",
          "height": 2111
        }
      },
      "cell_type": "code",
      "source": [
        "!ls -lt /gdrive/My\\ Drive"
      ],
      "execution_count": 0,
      "outputs": [
        {
          "output_type": "stream",
          "text": [
            "total 1815457\n",
            "drwx------ 2 root root      4096 Nov 28 13:59  2018kaggle_dogs-vs-cats\n",
            "-rw------- 1 root root   2770645 Oct  4 01:20  KalmanFilter001.pdf\n",
            "-rw------- 1 root root  18514617 Oct  4 01:20  webros001.pdf\n",
            "-rw------- 1 root root  16293766 Oct  4 01:20  1986pdp_chap8_001.pdf\n",
            "-rw------- 1 root root  10163871 Oct  4 01:20  1988hiromatsu001.pdf\n",
            "-rw------- 1 root root   1481144 Oct  4 01:20  20181005Gauss002.pdf\n",
            "-rw------- 1 root root         1 Oct  3 19:18 'MCE Time Tracker.gsheet'\n",
            "-rw------- 1 root root         1 Aug 31 08:21  Document_Summarization_Survey.gdoc\n",
            "-rw------- 1 root root     11289 Aug 26 07:31  2018AugPlan.xlsx\n",
            "-rw------- 1 root root     98827 Jul 22 13:02  例題.png\n",
            "-rw------- 1 root root   8288064 Jun 27  2018  2018gtext7_1.pdf\n",
            "-rw------- 1 root root         1 Jun 27  2018  2018gtext7_1.docx.gdoc\n",
            "drwx------ 2 root root      4096 Jun 27  2018  assets\n",
            "-rw------- 1 root root    841000 Jun 27  2018  2018gtext7_1.docx\n",
            "-rw------- 2 root root   4272427 May 29  2018  E_exam_レビュー版v1.pdf\n",
            "-rw------- 1 root root   4930560 Apr 29  2018  ICT機器による言語訓練の可能性を考える（2017.07.03.①）.ppt\n",
            "-rw------- 1 root root         1 Mar 23  2018  メールでのやりとり.txt.gdoc\n",
            "-rw------- 1 root root         1 Mar 23  2018  ぐるなび用語集.txt.gdoc\n",
            "-rw------- 1 root root    683029 Feb 28  2018  拡張MIXUP実験結果.png\n",
            "-rw------- 1 root root   2299904 Jan  6  2018  問い合わせデータ.xlsx\n",
            "-rw------- 1 root root   1418268 Nov 24  2017  亜細亜大学_ビッグデータ関連科目資料.pdf\n",
            "-rw------- 1 root root 167171033 Nov 22  2017  2017Asakawa_aboutCNN.mp4\n",
            "drwx------ 2 root root      4096 Nov 16  2017  2017naviplus_papers_reading\n",
            "drwx------ 2 root root      4096 Nov 13  2017  2017asahi_embeddings\n",
            "-rw------- 1 root root         1 Oct  6  2017  シラバス_Engineer.gdoc\n",
            "drwx------ 2 root root      4096 Sep 17  2017  2017jpa_word2vec\n",
            "drwx------ 2 root root      4096 Aug  8  2017  2017naviplusUniqloCommentAnalysis\n",
            "-rw------- 1 root root  45769458 Jul 27  2017  howtoupload.mov\n",
            "-rw------- 1 root root     66118 Jul 20  2017  2015Karpathy_Fig_n.png\n",
            "-rw------- 1 root root         1 Jul  6  2017 '浅川様<Python>Udemy コース作成スケジュール.gsheet'\n",
            "-rw------- 1 root root    288066 Jul  4  2017  EBSCOhost.pdf\n",
            "drwx------ 2 root root      4096 Jun 25  2017  2017triceps\n",
            "drwx------ 2 root root      4096 Jun  2  2017  2017gakushuin\n",
            "-rw------- 1 root root    156413 Jun  2  2017  activations_midterm_exam.pdf\n",
            "-rw------- 1 root root         1 May 17  2017 'deeplearning.w.python #1 starting up (Responses).gsheet'\n",
            "-rw------- 1 root root         1 May 16  2017 'deeplearning.w.python #1 starting up.gform'\n",
            "-rw------- 1 root root         1 May 12  2017  2017asakawa_aiacadenicnet_invoice.xlsx.gsheet\n",
            "-rw------- 1 root root     16628 May 12  2017  2017asakawa_aiacadenicnet_invoice.xlsx\n",
            "drwx------ 2 root root      4096 May 10  2017  2017jpa\n",
            "drwx------ 2 root root      4096 Apr 13  2017  2017deep_gakushuin\n",
            "-rw------- 1 root root   1782992 Mar  6  2017  2017tfmathja05handout.pdf\n",
            "drwx------ 2 root root      4096 Feb  4  2017  2017word2vec\n",
            "-rw------- 1 root root         1 Jan 30  2017  浅川先生プロジェクト_試算資料_20170130b.gsheet\n",
            "drwx------ 2 root root      4096 Jan 27  2017  2017KadokawaAscii\n",
            "-rw------- 1 root root     18056 Jan 26  2017  分娩監視プロ：修正にあたって.docx\n",
            "-rw------- 1 root root         1 Jan 17  2017  質問票.gsheet\n",
            "-rw------- 1 root root   1223548 Jan 14  2017  ASCII.pdf\n",
            "-rw------- 1 root root         1 Jan 12  2017 'Starting up RNN camp #2.gform'\n",
            "-rw------- 1 root root         1 Jan 12  2017 'RNN camp #2 スタートアップアンケート.gform'\n",
            "-rw------- 1 root root   2714988 Jan  3  2017  2016word_embbed.pdf\n",
            "-rw------- 1 root root  67405086 Dec  7  2016  GalagaAI_0071.mp4\n",
            "-rw------- 1 root root 462659755 Dec  5  2016  IMG_4909.MOV\n",
            "-rw------- 1 root root 628153641 Dec  5  2016  IMG_4888.MOV\n",
            "-rw------- 1 root root  65528227 Dec  5  2016  IMG_4886.MOV\n",
            "-rw------- 1 root root  65528227 Dec  5  2016 'IMG_4886 (1).MOV'\n",
            "-rw------- 1 root root  32990957 Dec  5  2016  mscoco2014train_val_captions_only.txt\n",
            "-rw------- 1 root root  48413442 Dec  5  2016  mscoco2014train_val_captions.txt\n",
            "-rw------- 1 root root 141942634 Dec  3  2016  all_captions_formatted.json\n",
            "-rw------- 1 root root   1980816 Nov  7  2016  machine_learning_intro.pdf\n",
            "-rw------- 1 root root    782501 Nov  7  2016  math04presen.pdf\n",
            "-rw------- 1 root root     38400 Nov  4  2016  161118AIロボット出席依頼・支払い名簿.xls\n",
            "-rw------- 1 root root         1 Oct 25  2016  20161026_三井情報中島様.gdoc\n",
            "-rw------- 1 root root     83090 Oct 21  2016  20161010_優秀賞記念講演者へのご連絡.pdf\n",
            "-rw------- 1 root root     11647 Oct 21  2016  講演会schedule.xlsx\n",
            "-rw------- 1 root root    246352 Oct 19  2016  nn.pdf\n",
            "-rw------- 1 root root     92546 Oct 19  2016  reg2.pdf\n",
            "-rw------- 1 root root     83949 Oct 19  2016  lineralgebra_utf8.pdf\n",
            "-rw------- 1 root root   6258076 Oct 19  2016  2016word_embbed_supp.pdf\n",
            "-rw------- 1 root root         1 Sep 26  2016  2016toYu_Nanjing.gdoc\n",
            "-rw------- 1 root root         1 Sep  8  2016  RNNcamp2_followup.gform\n",
            "-rw------- 1 root root         1 Sep  8  2016  第一回Corona本出版企画イベントフォローアップアンケート.gform\n",
            "drwx------ 2 root root      4096 Sep  6  2016  運営委員会\n",
            "-rw------- 1 root root         1 Aug 24  2016 'Event Registration.gform'\n",
            "-r-------- 1 root root   3454234 Aug  4  2016 'Montreal DLSS Talk NoAnim.pdf'\n",
            "-rw------- 1 root root         1 Aug  1  2016  201608writing_plan.gsheet\n",
            "drwx------ 2 root root      4096 Aug  1  2016  2016mext\n",
            "-rw------- 1 root root         1 Jul 26  2016  20150212Deepbook_list.docx.gdoc\n",
            "-rw------- 1 root root     10114 Jul 25  2016 '20150212Deepbook_list (1).docx'\n",
            "-rw------- 1 root root         1 Jul 20  2016 'RNN camp #1.gslides'\n",
            "-rw------- 1 root root         1 Jul 20  2016 'Copy of RNN camp #1.gslides'\n",
            "-rw------- 1 root root         1 Jul 20  2016  20160311deep_corona_list.gdoc.gdoc\n",
            "-rw------- 1 root root   1819639 Jun 27  2016 'PLOS Computational Biology: Reservoir Computing Properties of Neural Dynamics in Prefrontal Cortex.pdf'\n",
            "drwx------ 2 root root      4096 Jun 23  2016  三校校正（最終分）\n",
            "-rw------- 1 root root         1 Jun 22  2016  20160622ToCoronaCover.gdoc\n",
            "-rw------- 1 root root         1 Jun 22  2016  20160622ToOmoriCover.gdoc\n",
            "drwx------ 2 root root      4096 Jun 14  2016  2016jsai\n",
            "drwx------ 2 root root      4096 Jun  9  2016  再校校正\n",
            "drwx------ 2 root root      4096 Jun  9  2016  再校データPDF　参考用\n",
            "drwx------ 2 root root      4096 May 26  2016  初校校正　3回目（索引）\n",
            "drwx------ 2 root root      4096 May 25  2016  初校校正　2回目\n",
            "drwx------ 2 root root      4096 May 23  2016  初校校正　1回目\n",
            "-rw------- 1 root root   5743403 May 11  2016 '領収書 - PayPal.pdf'\n",
            "drwx------ 2 root root      4096 May  7  2016  ML_MODEL_UP_FOLDER\n",
            "-rw------- 1 root root         1 May  7  2016  Kokodake-Net.gdoc\n",
            "drwx------ 2 root root      4096 May  2  2016  corona\n",
            "drwx------ 2 root root      4096 Apr 28  2016  2013NTTdb_lookup\n",
            "drwx------ 2 root root      4096 Apr 27  2016  twcu\n",
            "drwx------ 2 root root      4096 Apr 27  2016  kitaohji\n",
            "-rw------- 1 root root    612676 Apr 20  2016  C96-2104.pdf\n",
            "-rw------- 1 root root      1807 Apr 14  2016  NTT3.txt\n",
            "drwx------ 2 root root      4096 Mar 23  2016  2015RoboLab\n",
            "-rw------- 1 root root   9307932 Feb 25  2016  2015deep_corona.pdf\n",
            "-rw------- 1 root root     55939 Feb 17  2016  deepbook.pdf\n",
            "-rw------- 1 root root    224132 Oct 20  2015  賛助会員ロゴ_文字青案-02.jpg\n",
            "drwx------ 2 root root      4096 Oct  2  2015  ML_videos\n",
            "-rw------- 1 root root     50688 Sep 29  2015  MCF_人工知能講座講師のお願い.doc\n",
            "-rw------- 1 root root  18441542 Sep  7  2015  graph_region.pdf\n",
            "drwx------ 2 root root      4096 Aug 25  2015  機械学習\n",
            "-rw------- 1 root root         1 Jul 27  2015  PositionPaper18_asakawa.gdoc\n",
            "-rw------- 1 root root    112645 Jun 18  2015  e-旅のＣｏｎｃｉｒｇｅ開発企画要求書_060003_1700_26.jpg\n",
            "-rw------- 1 root root         1 Apr  9  2015  20140609一杉-tt.doc.gdoc\n",
            "-rw------- 1 root root        79 Apr  9  2015  20140609一杉-tt.doc\n",
            "-rw------- 1 root root     55315 Mar 13  2015  浅川対談01ver03_01.docx\n",
            "-rw------- 1 root root     10114 Feb 12  2015  20150212Deepbook_list.docx\n",
            "-rw------- 1 root root      5426 Jan 28  2015  triangle_revised.gif\n",
            "-rw------- 1 root root     45715 Jan 28  2015  2005Catani_Perisylvian_language_networks_of_the_human_brain_Fig3.jpg\n",
            "-rw------- 1 root root    824832 Oct  1  2014 'Permission Request Form.doc'\n",
            "-rw------- 1 root root    560888 Apr 29  2014  ctrstreadtechrepv01982i00254_opt.pdf\n",
            "-rw------- 1 root root     17435 Feb 20  2014  NTTdata検索の状況.docx\n",
            "-rw------- 1 root root   2379285 Dec  7  2013  RogersMcCIP_SWC.pdf\n",
            "-rw------- 1 root root   1671491 Dec  7  2013  Rogers_McClelland_2003.pdf\n"
          ],
          "name": "stdout"
        }
      ]
    },
    {
      "metadata": {
        "colab_type": "code",
        "id": "yvcof7fwImWS",
        "outputId": "d81006de-24c5-4ac0-c6d1-99133f41784b",
        "colab": {
          "base_uri": "https://localhost:8080/",
          "height": 34
        }
      },
      "cell_type": "code",
      "source": [
        "with open(\"/gdrive/My Drive/foo.txt\", 'w') as f:\n",
        "  f.write('Hello Google Drive!')\n",
        "!cat \"/gdrive/My Drive/foo.txt\""
      ],
      "execution_count": 0,
      "outputs": [
        {
          "output_type": "stream",
          "text": [
            "Hello Google Drive!"
          ],
          "name": "stdout"
        }
      ]
    },
    {
      "metadata": {
        "colab_type": "text",
        "id": "bRFyEsdfBxJ9"
      },
      "cell_type": "markdown",
      "source": [
        "# グーグルドライブ上にデータをセーブする\n",
        "\n",
        "オリジナルは直下3セルが一つになっています。ここでは概念上3つに分割しました。\n",
        "\n",
        "それは，\n",
        "1. 必要なライブラリをインストールして読み込む\n",
        "2. 認証をおこなう\n",
        "3. ファイルを作成する\n",
        "\n",
        "となっています。それぞれ実行してみましょう。\n",
        "\n",
        "## 参照 URL\n",
        "\n",
        "* [PyDrive reference](https://googledrive.github.io/PyDrive/docs/build/html/index.html)\n",
        "* [Google Drive API reference](https://developers.google.com/drive/v3/reference/)"
      ]
    },
    {
      "metadata": {
        "colab_type": "code",
        "id": "to5f2q3wraat",
        "colab": {}
      },
      "cell_type": "code",
      "source": [
        "# PyDrive をインストール\n",
        "# その後，認証用のライブラリを読み込む\n",
        "# 各ノートブック上で毎回一度は実行しなければならない\n",
        "!pip install -U -q PyDrive\n",
        "from pydrive.auth import GoogleAuth\n",
        "from pydrive.drive import GoogleDrive\n",
        "from google.colab import auth\n",
        "from oauth2client.client import GoogleCredentials\n"
      ],
      "execution_count": 0,
      "outputs": []
    },
    {
      "metadata": {
        "id": "Cld_xVNbqGFy",
        "colab_type": "code",
        "colab": {}
      },
      "cell_type": "code",
      "source": [
        "# ユーザ認証を行って PyDrive の使用を許可する\n",
        "# この操作も各ノートブック上で毎回一度は実行しなければならない\n",
        "auth.authenticate_user()\n",
        "gauth = GoogleAuth()\n",
        "gauth.credentials = GoogleCredentials.get_application_default()\n",
        "drive = GoogleDrive(gauth)"
      ],
      "execution_count": 0,
      "outputs": []
    },
    {
      "metadata": {
        "id": "jZRlIEqCqo-K",
        "colab_type": "code",
        "outputId": "fe8cbf56-cba8-4b47-bf69-51a8d9a03c1a",
        "colab": {
          "base_uri": "https://localhost:8080/",
          "height": 34
        }
      },
      "cell_type": "code",
      "source": [
        "# Create & upload a text file.\n",
        "uploaded = drive.CreateFile({'title': 'Sample file.txt'})\n",
        "uploaded.SetContentString('Sample upload file content')\n",
        "uploaded.Upload()\n",
        "print('Uploaded file with ID {}'.format(uploaded.get('id')))"
      ],
      "execution_count": 0,
      "outputs": [
        {
          "output_type": "stream",
          "text": [
            "Uploaded file with ID 1W34QSR1Z511B-2tevelkmfi6YLW-Nb3p\n"
          ],
          "name": "stdout"
        }
      ]
    },
    {
      "metadata": {
        "colab_type": "text",
        "id": "j5VyISCKFrqU"
      },
      "cell_type": "markdown",
      "source": [
        "上記セルを実行すると 'Sample file.txt' というファイル名を持つファイルがグーグルドライブ上に現れます。</br>\n",
        "\n",
        "[drive.google.com](https://drive.google.com/) を確認してください。\n"
      ]
    },
    {
      "metadata": {
        "colab_type": "text",
        "id": "hqJvrn8xsgd0"
      },
      "cell_type": "markdown",
      "source": [
        "# グーグルドライブ上のファイルリストを表示する\n",
        "\n",
        "- オリジナルでは直下セルを実行すると拡張子 `.txt` を持つファイルのリストが表示されるように書いてあります。</br>\n",
        "- ですが，最初のセルの内容は，必要なライブラリのインストールと認証ですので，それ以前の内容を実行していれば，直下セルを実行する必要はありません。\n",
        "- すぐに2つしたのセルを実行しても同じ結果を得ることができます。\n"
      ]
    },
    {
      "metadata": {
        "colab_type": "code",
        "id": "-f-hfkapsiPc",
        "colab": {}
      },
      "cell_type": "code",
      "source": [
        "# Install the PyDrive wrapper & import libraries.\n",
        "# This only needs to be done once per notebook.\n",
        "!pip install -U -q PyDrive\n",
        "from pydrive.auth import GoogleAuth\n",
        "from pydrive.drive import GoogleDrive\n",
        "from google.colab import auth\n",
        "from oauth2client.client import GoogleCredentials\n",
        "\n",
        "# Authenticate and create the PyDrive client.\n",
        "# This only needs to be done once per notebook.\n",
        "auth.authenticate_user()\n",
        "gauth = GoogleAuth()\n",
        "gauth.credentials = GoogleCredentials.get_application_default()\n",
        "drive = GoogleDrive(gauth)"
      ],
      "execution_count": 0,
      "outputs": []
    },
    {
      "metadata": {
        "id": "wSP7K98esiW1",
        "colab_type": "code",
        "outputId": "2ff96388-aefe-4d58-de2d-c4c4df54e4b4",
        "colab": {
          "base_uri": "https://localhost:8080/",
          "height": 51
        }
      },
      "cell_type": "code",
      "source": [
        "# List .txt files in the root.\n",
        "#\n",
        "# Search query reference:\n",
        "# https://developers.google.com/drive/v2/web/search-parameters\n",
        "listed = drive.ListFile({'q': \"title contains '.txt' and 'root' in parents\"}).GetList()\n",
        "for file in listed:\n",
        "  print('title {}, id {}'.format(file['title'], file['id']))"
      ],
      "execution_count": 0,
      "outputs": [
        {
          "output_type": "stream",
          "text": [
            "title Sample file.txt, id 1W34QSR1Z511B-2tevelkmfi6YLW-Nb3p\n",
            "title foo.txt, id 1HDru1Um3HdCsVrT2yBh4bwfRDKzCmWG1\n"
          ],
          "name": "stdout"
        }
      ]
    },
    {
      "metadata": {
        "colab_type": "text",
        "id": "P3KX0Sm0E2sF"
      },
      "cell_type": "markdown",
      "source": [
        "# グーグルドライブからのファイルのダウンロードとインポート\n",
        "\n",
        "下記のセルでは `REPLACE_WITH_YOUR_FILE_ID` と書かれた部分を\n",
        "上記のセルで得られたファイルID  これは各ユーザごと，時間や状況ごとに変化します，に置き換える必要があります。\n",
        "\n",
        "## 参照 URL\n",
        "\n",
        "* [PyDrive reference](https://googledrive.github.io/PyDrive/docs/build/html/index.html)\n",
        "* [Google Drive API reference](https://developers.google.com/drive/v3/reference/)"
      ]
    },
    {
      "metadata": {
        "colab_type": "code",
        "id": "TbRbQAYqPTci",
        "colab": {}
      },
      "cell_type": "code",
      "source": [
        "# Install the PyDrive wrapper & import libraries.\n",
        "# This only needs to be done once per notebook.\n",
        "!pip install -U -q PyDrive\n",
        "from pydrive.auth import GoogleAuth\n",
        "from pydrive.drive import GoogleDrive\n",
        "from google.colab import auth\n",
        "from oauth2client.client import GoogleCredentials\n",
        "\n",
        "# Authenticate and create the PyDrive client.\n",
        "# This only needs to be done once per notebook.\n",
        "auth.authenticate_user()\n",
        "gauth = GoogleAuth()\n",
        "gauth.credentials = GoogleCredentials.get_application_default()\n",
        "drive = GoogleDrive(gauth)\n"
      ],
      "execution_count": 0,
      "outputs": []
    },
    {
      "metadata": {
        "id": "TgE2KzXsvTg6",
        "colab_type": "code",
        "outputId": "246dd802-3c91-4975-82af-e33cc4684e5c",
        "colab": {
          "base_uri": "https://localhost:8080/",
          "height": 34
        }
      },
      "cell_type": "code",
      "source": [
        "\n",
        "# Download a file based on its file ID.\n",
        "#\n",
        "# A file ID looks like: laggVyWshwcyP6kEI-y_W3P8D26sz\n",
        "file_id = '1HDru1Um3HdCsVrT2yBh4bwfRDKzCmWG1'\n",
        "downloaded = drive.CreateFile({'id': file_id})\n",
        "print('Downloaded content \"{}\"'.format(downloaded.GetContentString()))"
      ],
      "execution_count": 0,
      "outputs": [
        {
          "output_type": "stream",
          "text": [
            "Downloaded content \"Hello Google Drive!\"\n"
          ],
          "name": "stdout"
        }
      ]
    },
    {
      "metadata": {
        "colab_type": "text",
        "id": "BaCkyg5CV5jF"
      },
      "cell_type": "markdown",
      "source": [
        "# 自分の PC などにあるローカルファイルシステム上のファイルをアップロードする\n",
        "\n",
        "\n",
        "- `files.upload` はアップロードされる場所を返す関数です。\n",
        "- ディレクトリはアップロードされたローカルファイルのキーと値の組です。\n"
      ]
    },
    {
      "metadata": {
        "colab_type": "code",
        "id": "vz-jH8T_Uk2c",
        "outputId": "8f7b9eb7-b91b-4204-d24b-7a702dd50608",
        "colab": {
          "resources": {
            "http://localhost:8080/nbextensions/google.colab/files.js": {
              "data": "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",
              "ok": true,
              "headers": [
                [
                  "content-type",
                  "application/javascript"
                ]
              ],
              "status": 200,
              "status_text": ""
            }
          },
          "base_uri": "https://localhost:8080/",
          "height": 86
        }
      },
      "cell_type": "code",
      "source": [
        "from google.colab import files\n",
        "\n",
        "uploaded = files.upload()\n",
        "\n",
        "for fn in uploaded.keys():\n",
        "  print('User uploaded file \"{name}\" with length {length} bytes'.format(\n",
        "      name=fn, length=len(uploaded[fn])))"
      ],
      "execution_count": 0,
      "outputs": [
        {
          "output_type": "display_data",
          "data": {
            "text/html": [
              "\n",
              "     <input type=\"file\" id=\"files-1405c39a-67f6-436e-ae20-e914ebeaeaec\" name=\"files[]\" multiple disabled />\n",
              "     <output id=\"result-1405c39a-67f6-436e-ae20-e914ebeaeaec\">\n",
              "      Upload widget is only available when the cell has been executed in the\n",
              "      current browser session. Please rerun this cell to enable.\n",
              "      </output>\n",
              "      <script src=\"/nbextensions/google.colab/files.js\"></script> "
            ],
            "text/plain": [
              "<IPython.core.display.HTML object>"
            ]
          },
          "metadata": {
            "tags": []
          }
        },
        {
          "output_type": "stream",
          "text": [
            "Saving 20181228SeminarInfo.pdf to 20181228SeminarInfo.pdf\n",
            "User uploaded file \"20181228SeminarInfo.pdf\" with length 15575 bytes\n"
          ],
          "name": "stdout"
        }
      ]
    },
    {
      "metadata": {
        "colab_type": "text",
        "id": "hauvGV4hV-Mh"
      },
      "cell_type": "markdown",
      "source": [
        "# Downloading files to your local file system\n",
        "\n",
        "`files.download` will invoke a browser download of the file to your local computer.\n"
      ]
    },
    {
      "metadata": {
        "colab_type": "code",
        "id": "p2E4EKhCWEC5",
        "colab": {}
      },
      "cell_type": "code",
      "source": [
        "from google.colab import files\n",
        "\n",
        "with open('example.txt', 'w') as f:\n",
        "  f.write('some content')\n",
        "\n",
        "files.download('example.txt')"
      ],
      "execution_count": 0,
      "outputs": []
    }
  ]
}