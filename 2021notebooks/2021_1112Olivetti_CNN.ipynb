{
  "nbformat": 4,
  "nbformat_minor": 0,
  "metadata": {
    "colab": {
      "name": "2021_1112Olivetti_CNN.ipynb",
      "private_outputs": true,
      "provenance": [],
      "authorship_tag": "ABX9TyPzt/nAd8yhSJZsccQ0NFDH",
      "include_colab_link": true
    },
    "kernelspec": {
      "name": "python3",
      "display_name": "Python 3"
    },
    "language_info": {
      "name": "python"
    }
  },
  "cells": [
    {
      "cell_type": "markdown",
      "metadata": {
        "id": "view-in-github",
        "colab_type": "text"
      },
      "source": [
        "<a href=\"https://colab.research.google.com/github/ShinAsakawa/2015corona/blob/master/2021notebooks/2021_1112Olivetti_CNN.ipynb\" target=\"_parent\"><img src=\"https://colab.research.google.com/assets/colab-badge.svg\" alt=\"Open In Colab\"/></a>"
      ]
    },
    {
      "cell_type": "markdown",
      "metadata": {
        "id": "yCxEpSiL4EqD"
      },
      "source": [
        "---\n",
        "date: 2021_1112\n",
        "source: https://qiita.com/takubb/items/7d45ae701390912c7629\n",
        "\n",
        "---\n",
        "\n"
      ]
    },
    {
      "cell_type": "code",
      "metadata": {
        "id": "10UTMhEV2sm3"
      },
      "source": [
        "import platform\n",
        "isColab = True if platform.system() == 'Linux' else False\n",
        "if isColab:\n",
        "    !pip install japanize_matplotlib > /dev/null 2>&1\n",
        "    !pip install torchsummary > /dev/null 2>&1\n",
        "    !pip install torchviz > /dev/null 2>&1\n",
        "\n",
        "import matplotlib.pyplot as plt\n",
        "import japanize_matplotlib\n",
        "%config InlineBackend.figure_format = 'retina'\n",
        "%matplotlib inline    "
      ],
      "execution_count": null,
      "outputs": []
    },
    {
      "cell_type": "markdown",
      "metadata": {
        "id": "ztPvlhNP3dt3"
      },
      "source": [
        "<center>\n",
        "<img src=\"https://komazawa-deep-learning.github.io/assets/Neocognitron.svg\" width=\"49%\">\n",
        "<img src=\"https://komazawa-deep-learning.github.io/assets/Fukushima.jpeg\" width=\"19%\"><br/>\n",
        "<font size=\"+2\" color=\"blue\">ネオコグニトロン (Fukushima, 1979)</font><br/>\n",
        "</center>    \n",
        "\n",
        "<center>\n",
        "<img src=\"https://komazawa-deep-learning.github.io/assets/1998LeCun_Fig2_CNN.svg\" width=\"66%\"><br/>\n",
        "<font size=\"+2\" color=\"blue\">LeNet5(LeCun, 1998)</font><br/>\n",
        "</center>    \n",
        "\n",
        "<center>\n",
        "<img src=\"https://komazawa-deep-learning.github.io/assets/2012AlexNet_2.svg\" width=\"66%\"><br/>\n",
        "<!-- <img src=\"https://miro.medium.com/max/2812/1*bD_DMBtKwveuzIkQTwjKQQ.png\" width=\"66%\"><br/> -->\n",
        "<font size=\"+2\" color=\"blue\">アレックスネット (Krizensky, et al., 2012)</font><br/>\n",
        "</center>\n",
        "\n",
        "<center>\n",
        "<img src=\"https://komazawa-deep-learning.github.io/assets/imagenet_result2017.png\" width=\"49%\"><br/>\n",
        "<font size=\"+2\" color=\"blue\">年毎のイメージネットコンテストの結果，縦軸は優勝チームのエラー率</font><br/>\n",
        "</center>\n",
        "\n",
        "\n",
        "<!-- https://komazawa-deep-learning.github.io/assets/2019si_conv-demo.mp4 -->\n",
        "<!-- \n",
        "<video width=\"49%\" markdown=\"0\" controls>\n",
        "<source src=\"https://komazawa-deep-learning.github.io/assets/2019si_conv-demo.mp4\" type=\"video/mp4\" markdown=\"0\" >\n",
        "</video>\n",
        "-->\n",
        "\n",
        "<p>\n",
        "<center>\n",
        "<video controls loop>\n",
        "<source src=\"https://komazawa-deep-learning.github.io/assets/2019si_conv-demo.mp4\" type=\"video/mp4\" style=\"width:84%\">\n",
        "</video>\n",
        "</center>\n",
        "</p>"
      ]
    },
    {
      "cell_type": "code",
      "metadata": {
        "id": "tIHZH0yB4YKz"
      },
      "source": [
        "import torch\n",
        "import torchvision\n",
        "\n",
        "alexnet = torchvision.models.alexnet(pretrained=True)\n",
        "\n",
        "import torchsummary\n",
        "torchsummary.summary(alexnet, input_size=(3,224,224))\n",
        "\n",
        "import torchviz\n",
        "x = torch.rand([1,3,255,255])\n",
        "y = alexnet.forward(x)\n",
        "torchviz.make_dot(y.mean(), params=dict(alexnet.named_parameters()))"
      ],
      "execution_count": null,
      "outputs": []
    },
    {
      "cell_type": "code",
      "metadata": {
        "id": "YJZrdGnR4Sr7"
      },
      "source": [
        "import torch\n",
        "import torch.nn as nn\n",
        "import torch.optim as optim\n",
        "import torch.nn.functional as F\n",
        "\n",
        "import random\n",
        "import numpy as np\n",
        "import matplotlib.pyplot as plt\n",
        "\n",
        "# from tqdm import tqdm  #コマンドラインで実行するとき\n",
        "from tqdm.notebook import tqdm  # jupyter で実行するとき\n",
        "\n",
        "# リソースの選択（CPU/GPU）\n",
        "device = torch.device(\"cuda:0\" if torch.cuda.is_available() else \"cpu\")\n",
        "\n",
        "# 乱数シード固定（再現性の担保）\n",
        "def fix_seed(seed):\n",
        "    # random\n",
        "    random.seed(seed)\n",
        "    # numpy\n",
        "    np.random.seed(seed)\n",
        "    # pytorch\n",
        "    torch.manual_seed(seed)\n",
        "    torch.cuda.manual_seed_all(seed)\n",
        "    torch.backends.cudnn.deterministic = True\n",
        "    torch.backends.cudnn.benchmark = False\n",
        "\n",
        "seed = 2021\n",
        "fix_seed(seed)\n",
        "\n",
        "# データローダーのサブプロセスの乱数のseedが固定\n",
        "def worker_init_fn(worker_id):\n",
        "    np.random.seed(np.random.get_state()[1][0] + worker_id)\n",
        "\n",
        "print(worker_init_fn(1))"
      ],
      "execution_count": null,
      "outputs": []
    },
    {
      "cell_type": "code",
      "metadata": {
        "id": "TO2mvOlo3sO5"
      },
      "source": [
        "import sys\n",
        "from sklearn.datasets import fetch_olivetti_faces\n",
        "\n",
        "data = fetch_olivetti_faces()\n",
        "X, y = data.data, data.target"
      ],
      "execution_count": null,
      "outputs": []
    },
    {
      "cell_type": "code",
      "metadata": {
        "id": "kOaQRJNh37ZM"
      },
      "source": [
        "from sklearn.model_selection import train_test_split\n",
        "# split_ratio = 0.1 としているので，訓練データ対テストデータが 8:2 になります\n",
        "split_ratio = 0.2\n",
        "X_train, X_test, y_train, y_test = train_test_split(X, y,\n",
        "                                                    test_size=split_ratio, \n",
        "                                                    stratify=y,\n",
        "                                                    random_state=0)\n",
        "print(f'X_train 訓練画像のサイズ: {X_train.shape}')\n",
        "print(f'y_train 教師信号データのサイズ: {y_train.shape}')"
      ],
      "execution_count": null,
      "outputs": []
    },
    {
      "cell_type": "code",
      "metadata": {
        "id": "MT_uPfD039dR"
      },
      "source": [
        "# データセットの作成\n",
        "class Mydataset(torch.utils.data.Dataset):\n",
        "    def __init__(self, X, y):\n",
        "        self.X = X\n",
        "        self.y = y\n",
        "\n",
        "    def __len__(self):\n",
        "        return len(self.X)\n",
        "\n",
        "    def __getitem__(self, index):\n",
        "        feature = self.X[index]\n",
        "        label = self.y[index]\n",
        "        return feature, label\n",
        "\n",
        "\n",
        "X_ = torch.tensor(X_train).float()\n",
        "X_ = torch.reshape(torch.tensor(X_train).float(), (-1,1,64,64))\n",
        "y_ = torch.tensor(y_train).long()\n",
        "Xtest_ = torch.tensor(X_test).float().reshape(-1,1,64,64)\n",
        "ytest_ = torch.tensor(y_test).long()\n",
        "\n",
        "#train_dataset = Mydataset(train_X, train_y)\n",
        "#test_dataset = Mydataset(test_X, test_y)\n",
        "train_dataset = Mydataset(X_, y_)\n",
        "test_dataset = Mydataset(Xtest_, ytest_)\n",
        "\n",
        "# データローダーの作成\n",
        "train_dataloader = torch.utils.data.DataLoader(train_dataset,\n",
        "                                               batch_size=128,  # バッチサイズ\n",
        "                                               shuffle=True,  # データシャッフル\n",
        "                                               num_workers=0,  # 高速化\n",
        "                                               pin_memory=True,  # 高速化\n",
        "                                               worker_init_fn=worker_init_fn\n",
        "                                              )\n",
        "test_dataloader = torch.utils.data.DataLoader(test_dataset,\n",
        "                                              batch_size=128,\n",
        "                                              shuffle=False,\n",
        "                                              num_workers=0,\n",
        "                                              pin_memory=True,\n",
        "                                              worker_init_fn=worker_init_fn\n",
        "                                             )"
      ],
      "execution_count": null,
      "outputs": []
    },
    {
      "cell_type": "code",
      "metadata": {
        "id": "xyZ0IBMT4z77"
      },
      "source": [
        "# モデルの定義\n",
        "class Mymodel_olivetti(nn.Module):\n",
        "    def __init__(self):\n",
        "        super().__init__()\n",
        "        self.conv1 = torch.nn.Sequential(nn.Conv2d(in_channels=1, \n",
        "                                                   out_channels=16, \n",
        "                                                   kernel_size=3, \n",
        "                                                   stride=1,\n",
        "                                                   padding=1,\n",
        "                                                  ),\n",
        "                                         nn.BatchNorm2d(16),\n",
        "                                         nn.MaxPool2d(kernel_size=3, stride=1, padding=1),\n",
        "                                         nn.ReLU())\n",
        "        \n",
        "        self.conv2 = torch.nn.Sequential(nn.Conv2d(in_channels=16, \n",
        "                                                   out_channels=16, \n",
        "                                                   kernel_size=3, \n",
        "                                                   stride=1,\n",
        "                                                   padding=1,\n",
        "                                                  ),\n",
        "                                         nn.BatchNorm2d(16),\n",
        "                                         nn.MaxPool2d(kernel_size=3, stride=1, padding=1),\n",
        "                                         nn.ReLU())\n",
        "\n",
        "        #self.fc1 = nn.Linear(16 * 64 * 64, 100)\n",
        "        self.fc1 = nn.Linear(16 * 64 * 64, 100)\n",
        "        #self.fc1 = nn.Linear(16 * 14 * 14, 100)\n",
        "        self.dropout = nn.Dropout(0.5)\n",
        "        self.fc2 = torch.nn.Linear(100, 40)\n",
        "\n",
        "    def forward(self, x):\n",
        "        x = self.conv1(x)\n",
        "        x = self.conv2(x)\n",
        "        x = x.view(x.size(0), -1)\n",
        "        x = self.fc1(x)\n",
        "        x = self.dropout(x)\n",
        "        x = self.fc2(x)\n",
        "        return x"
      ],
      "execution_count": null,
      "outputs": []
    },
    {
      "cell_type": "code",
      "metadata": {
        "id": "b9esoj6644Tt"
      },
      "source": [
        "model = Mymodel_olivetti()\n",
        "from torchsummary import summary\n",
        "summary(model, input_size=(1, 64, 64))\n",
        "# print('=' * 77, '\\n', model, '\\n', '=' * 77)\n",
        "\n",
        "x = torch.rand([1,1,64,64])\n",
        "y = model.forward(x)\n",
        "torchviz.make_dot(y.mean(), params=dict(model.named_parameters()))"
      ],
      "execution_count": null,
      "outputs": []
    },
    {
      "cell_type": "code",
      "metadata": {
        "id": "Nb4lYEUc469z"
      },
      "source": [
        "# モデル・損失関数・最適化アルゴリスムの設定\n",
        "model = Mymodel_olivetti().to(device)\n",
        "loss_f = nn.CrossEntropyLoss()\n",
        "#optimizer = optim.SGD(model.parameters(), lr=0.01)\n",
        "optimizer = optim.Adam(model.parameters(), weight_decay=0.01)\n",
        "\n",
        "# モデル訓練関数\n",
        "def train_(model, train_loader, test_loader):\n",
        "    train_losses, test_losses = [], []\n",
        "\n",
        "    # Train loop ----------------------------\n",
        "    model.train()  # 学習モードをオン\n",
        "    for data, label in train_loader:\n",
        "        # device (CPU, GPU) への転送\n",
        "        data, label = data.to(device), label.to(device)\n",
        "        optimizer.zero_grad() # 1. 勾配のリセット\n",
        "        output = model(data) # 2. 推論\n",
        "        loss = loss_f(output, label) # 3. 誤差計算\n",
        "        loss.backward()  # 4. 誤差逆伝播\n",
        "        optimizer.step() # 5. パラメータ更新\n",
        "        train_losses.append(loss.item()) # train_lossの取得\n",
        "\n",
        "    # Test(val) loop ----------------------------\n",
        "    model.eval()  # 学習モードをオフ\n",
        "    with torch.no_grad():  # 勾配を計算なし\n",
        "        for data, label in test_loader:\n",
        "            data, label = data.to(device), label.to(device)\n",
        "            output = model(data)\n",
        "            loss = loss_f(output, label)\n",
        "            test_losses.append(loss.item())\n",
        "\n",
        "    return np.mean(train_losses), np.mean(test_losses)"
      ],
      "execution_count": null,
      "outputs": []
    },
    {
      "cell_type": "code",
      "metadata": {
        "id": "op5rN3qc49iL"
      },
      "source": [
        "# 訓練の実行\n",
        "epoch = 20\n",
        "train_loss = []\n",
        "test_loss = []\n",
        "\n",
        "for epoch in tqdm(range(epoch)):\n",
        "    #model, train_l, test_l = train_(model, train_loader, test_loader)\n",
        "    _train_loss, _test_loss = train_(model, train_dataloader, test_dataloader)\n",
        "    train_loss.append(_train_loss)\n",
        "    test_loss.append(_test_loss)\n",
        "\n",
        "\n",
        "# 学習進行状況の描画\n",
        "plt.plot(train_loss, label='訓練損失')\n",
        "plt.plot(test_loss, label='テスト損失')\n",
        "plt.legend()"
      ],
      "execution_count": null,
      "outputs": []
    }
  ]
}