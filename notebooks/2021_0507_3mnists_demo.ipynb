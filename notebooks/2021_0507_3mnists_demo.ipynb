{
  "nbformat": 4,
  "nbformat_minor": 0,
  "metadata": {
    "colab": {
      "name": "2021_0507_3mnists_demo.ipynb",
      "private_outputs": true,
      "provenance": [],
      "collapsed_sections": [],
      "include_colab_link": true
    },
    "kernelspec": {
      "display_name": "Python 3",
      "language": "python",
      "name": "python3"
    },
    "language_info": {
      "codemirror_mode": {
        "name": "ipython",
        "version": 3
      },
      "file_extension": ".py",
      "mimetype": "text/x-python",
      "name": "python",
      "nbconvert_exporter": "python",
      "pygments_lexer": "ipython3",
      "version": "3.8.8"
    }
  },
  "cells": [
    {
      "cell_type": "markdown",
      "metadata": {
        "id": "view-in-github",
        "colab_type": "text"
      },
      "source": [
        "<a href=\"https://colab.research.google.com/github/ShinAsakawa/2015corona/blob/master/notebooks/2021_0507_3mnists_demo.ipynb\" target=\"_parent\"><img src=\"https://colab.research.google.com/assets/colab-badge.svg\" alt=\"Open In Colab\"/></a>"
      ]
    },
    {
      "cell_type": "markdown",
      "metadata": {
        "id": "v6FEY04QpTYn"
      },
      "source": [
        "# 機械学習実習\n",
        "\n",
        "- author: 浅川伸一\n",
        "- date: 2021_0507\n",
        "- filename: 2021_0507_3mnist.ipynb\n",
        "\n",
        "ここでは，機械学習の手法を具体的に 5 つ取り上げ実習を行います。\n",
        "取り上げる手法は以下のとおりです：\n",
        "\n",
        "1. 線形回帰 (重回帰)\n",
        "2. ロジスティック回帰\n",
        "3. サポートベクトルマシン\n",
        "4. 主成分分析\n",
        "5. tSNE\n",
        "\n",
        "## 1. データの準備"
      ]
    },
    {
      "cell_type": "code",
      "metadata": {
        "id": "qOuXszUyp3ya"
      },
      "source": [
        "import sys\n",
        "import requests\n",
        "\n",
        "mnist_urls = {\n",
        "    #http://yann.lecun.com/exdb/mnist/\n",
        "    'Xtrain': 'http://yann.lecun.com/exdb/mnist/train-images-idx3-ubyte.gz',\n",
        "    'Ytrain': 'http://yann.lecun.com/exdb/mnist/train-labels-idx1-ubyte.gz',\n",
        "    'Xtest': 'http://yann.lecun.com/exdb/mnist/t10k-images-idx3-ubyte.gz',\n",
        "    'Ytest':'http://yann.lecun.com/exdb/mnist/t10k-labels-idx1-ubyte.gz'\n",
        "}\n",
        "\n",
        "fashionmnist_urls = {\n",
        "    #https://github.com/zalandoresearch/fashion-mnist\n",
        "    'Xtest': 'http://fashion-mnist.s3-website.eu-central-1.amazonaws.com/t10k-images-idx3-ubyte.gz',\n",
        "    'Ytest': 'http://fashion-mnist.s3-website.eu-central-1.amazonaws.com/t10k-labels-idx1-ubyte.gz',\n",
        "    'Xtrain': 'http://fashion-mnist.s3-website.eu-central-1.amazonaws.com/train-images-idx3-ubyte.gz',\n",
        "    'Ytrain': 'http://fashion-mnist.s3-website.eu-central-1.amazonaws.com/train-labels-idx1-ubyte.gz'\n",
        "}\n",
        "\n",
        "kmnist_urls = {\n",
        "    #http://codh.rois.ac.jp/kmnist/\n",
        "    'Xtrain': 'http://codh.rois.ac.jp/kmnist/dataset/kmnist/train-images-idx3-ubyte.gz',\n",
        "    'Ytrain': 'http://codh.rois.ac.jp/kmnist/dataset/kmnist/train-labels-idx1-ubyte.gz',\n",
        "    'Xtest': 'http://codh.rois.ac.jp/kmnist/dataset/kmnist/t10k-images-idx3-ubyte.gz',\n",
        "    'Ytest': 'http://codh.rois.ac.jp/kmnist/dataset/kmnist/t10k-labels-idx1-ubyte.gz'\n",
        "}\n",
        " \n",
        "\n",
        "def download_mnist(dataset):\n",
        "    #上で定義したデータセットの情報を元にデータをダウンロードする\n",
        "    for name, url in dataset.items():\n",
        "        fname = url.split('/')[-1]\n",
        "        print(url, fname)\n",
        "        r = requests.get(url, timeout=None) #timeout=None はサーバからの応答が遅い場合永遠に待ち続ける\n",
        "        with open(fname, 'wb') as f:\n",
        "            f.write(r.content)\n"
      ],
      "execution_count": null,
      "outputs": []
    },
    {
      "cell_type": "code",
      "metadata": {
        "id": "q652FbHrYSFj"
      },
      "source": [
        "#データを変更して，繰り返し実行する際には，次行行頭の # を削除して，上のセルを再実行する必要があります\n",
        "!rm *.gz\n",
        "!ls -l *.gz*\n",
        "\n",
        "mnist_labels = ['0', '1', '2', '3', '4', '5', '6', '7', '8', '9']\n",
        "fashionmnist_labels = ['T-shirt/top', 'Trouser', 'Pullover', 'Dress', 'Coat' , \\\n",
        "                       'Sandal', 'Shirt', 'Sneaker', 'Bag', 'Ankle boot']\n",
        "kmnist_labels = ['お', 'き', 'す', 'つ', 'な', 'は', 'ま', 'や', 'れ', 'を']\n",
        "# '0,U+304A,お', '1,U+304D,き', '2,U+3059,す', '3,U+3064,つ', '4,U+306A,な', \n",
        "# '5,U+306F,は', '6,U+307E,ま', '7,U+3084,や', '8,U+308C,れ', '9,U+3092,を'\n",
        "\n",
        "labels = mnist_labels\n",
        "labels = fashionmnist_labels\n",
        "labels = kmnist_labels\n",
        "\n",
        "#以下の 3 つのデータセットのうち 1 つを選んで実習してみましょう\n",
        "dataset = mnist_urls\n",
        "dataset = fashionmnist_urls\n",
        "#dataset = kmnist_urls\n",
        "\n",
        "labels = mnist_labels\n",
        "labels = fashionmnist_labels\n",
        "#labels = kmnist_labels\n",
        "\n",
        "download_mnist(dataset)"
      ],
      "execution_count": null,
      "outputs": []
    },
    {
      "cell_type": "code",
      "metadata": {
        "id": "WxyjhUROVQis"
      },
      "source": [
        "def load_mnist(path, kind='train'):\n",
        "    \"\"\"ダウンロードしたデータを読み込む関数\"\"\"\n",
        "    import os\n",
        "    import gzip\n",
        "    import numpy as np\n",
        "\n",
        "    \"\"\"Load MNIST data from `path`\"\"\"\n",
        "    labels_path = os.path.join(path,\n",
        "                               '%s-labels-idx1-ubyte.gz'\n",
        "                               % kind)\n",
        "    images_path = os.path.join(path,\n",
        "                               '%s-images-idx3-ubyte.gz'\n",
        "                               % kind)\n",
        "\n",
        "    with gzip.open(labels_path, 'rb') as lbpath:\n",
        "        labels = np.frombuffer(lbpath.read(), dtype=np.uint8,\n",
        "                               offset=8)\n",
        "\n",
        "    with gzip.open(images_path, 'rb') as imgpath:\n",
        "        images = np.frombuffer(imgpath.read(), dtype=np.uint8,\n",
        "                               offset=16).reshape(len(labels), 784)\n",
        "\n",
        "    return images, labels"
      ],
      "execution_count": null,
      "outputs": []
    },
    {
      "cell_type": "code",
      "metadata": {
        "id": "fgAYom64_-dG"
      },
      "source": [
        "#このセルは一度だけ実行すれば，再実行する必要はありません。\n",
        "#図中に日本語を表示するために必要なライブラリを輸入します\n",
        "!pip install japanize_matplotlib"
      ],
      "execution_count": null,
      "outputs": []
    },
    {
      "cell_type": "code",
      "metadata": {
        "id": "Oq5euU6kW4fE"
      },
      "source": [
        "#データの表示\n",
        "import matplotlib.pyplot as plt\n",
        "import japanize_matplotlib\n",
        "X_train, Y_train = load_mnist('.', kind='train')\n",
        "X_test, Y_test = load_mnist('.', kind='t10k')\n",
        "\n",
        "#次行の数字を変更して実施してください。ただし数字の範囲は 0 から 59999 までです\n",
        "No = 5000\n",
        "plt.figure(figsize=(2,2))    #表示する縦横の大きさ，単位はインチ\n",
        "plt.title('label:{}'.format(labels[Y_train[No]]))\n",
        "plt.axis(False)\n",
        "plt.imshow(X_train[No].reshape(28,28), cmap='gray')\n",
        "plt.show()"
      ],
      "execution_count": null,
      "outputs": []
    },
    {
      "cell_type": "markdown",
      "metadata": {
        "id": "MW25WlwkqUcz"
      },
      "source": [
        "## 1. 重回帰"
      ]
    },
    {
      "cell_type": "code",
      "metadata": {
        "id": "w5vlNoT5hbf9"
      },
      "source": [
        "#ここから先は単純な重回帰の実行です\n",
        "import numpy as np\n",
        "\n",
        "#簡単のためデータ数を最初の N 個に制限します。\n",
        "N = 10000\n",
        "x = X_train[:N]\n",
        "y = Y_train[:N]\n",
        "\n",
        "bias = np.ones((x.shape[0],1))          # 線形回帰 y = w x + b の b すなわちバイアス項の定義\n",
        "X1 = np.concatenate((x, bias), axis=1)  # x と b とを連接して一つの行列にする\n",
        "XtX = np.dot(X1.T, X1)                  # $X^t X$\n",
        "XtX_inv = np.linalg.inv(XtX)            # 逆行列 $(X^t X)^{-1}$ の計算\n",
        "w = np.dot(np.dot(X1, XtX_inv), X1.T)   # 重み係数行列 W の定義\n",
        "print(f'定義した重み係数行列のサイズ: {w.shape}')"
      ],
      "execution_count": null,
      "outputs": []
    },
    {
      "cell_type": "code",
      "metadata": {
        "id": "_O1fWk02llcn"
      },
      "source": [
        "y_ = np.zeros((y.shape[0],10))  #教師データの作成の準備\n",
        "y_[np.arange(len(y)),y] = 1     #教師データ\n",
        "\n",
        "y_hat = np.dot(w, y_)           #線形回帰の実施"
      ],
      "execution_count": null,
      "outputs": []
    },
    {
      "cell_type": "code",
      "metadata": {
        "id": "JaHACk1OpSIY"
      },
      "source": [
        "#回帰分析の結果，精度の印字\n",
        "teach = np.argmax(y_,axis=1)    #教師信号を teach とする。この処理は冗長です\n",
        "pred  = np.argmax(y_hat,axis=1) #予測値を pred とする\n",
        "print(f'訓練データの精度: {((teach == pred) * 1).sum() / N * 100:.3f} %')"
      ],
      "execution_count": null,
      "outputs": []
    },
    {
      "cell_type": "code",
      "metadata": {
        "id": "td81nz6myoyF"
      },
      "source": [
        "#検証データによる評価\n",
        "\n",
        "y = Y_test\n",
        "y_ = np.zeros((y.shape[0],10))  #教師データの作成の準備\n",
        "y_[np.arange(len(y)),y] = 1     #教師データ\n",
        "\n",
        "y_hat = np.dot(w, y_)\n",
        "teach = np.argmax(y_, axis=1)\n",
        "pred = np.argmax(y_hat, axis=1)\n",
        "print(f'テストデータの精度: {((teach == pred) * 1).sum() / N * 100:.3f} %')"
      ],
      "execution_count": null,
      "outputs": []
    },
    {
      "cell_type": "code",
      "metadata": {
        "id": "-psINn_oauWG"
      },
      "source": [
        "#視覚化のためのライブラリを読み込む\n",
        "from sklearn.decomposition import PCA\n",
        "from sklearn.manifold import TSNE\n",
        "import seaborn as sns\n",
        "import pandas as pd"
      ],
      "execution_count": null,
      "outputs": []
    },
    {
      "cell_type": "markdown",
      "metadata": {
        "id": "74XUPumrqY_O"
      },
      "source": [
        "## 2. 主成分分析"
      ]
    },
    {
      "cell_type": "code",
      "metadata": {
        "id": "VIyxHEKTaxS1"
      },
      "source": [
        "pca = PCA(n_components=2)\n",
        "N = 500\n",
        "x = X_train[:N]\n",
        "y = Y_train[:N]\n",
        "\n",
        "label = [labels[y[i]] for i in range(len(y))]\n",
        "pca_results = pca.fit_transform(x)\n",
        "pca1, pca2 = pca_results[:,0], pca_results[:,1] \n",
        "fig, ax = plt.subplots(figsize=(13,14))  \n",
        "ax.scatter(pca1, pca2, s=20, color='cyan')\n",
        "for i, l in enumerate(label):\n",
        "    ax.annotate(l, (pca1[i], pca2[i]), fontsize=12)\n",
        "ax.set_xlabel('第一主成分')\n",
        "ax.set_ylabel('第二主成分')\n"
      ],
      "execution_count": null,
      "outputs": []
    },
    {
      "cell_type": "markdown",
      "metadata": {
        "id": "v8aDq6r7qfql"
      },
      "source": [
        "## 3. tSNE"
      ]
    },
    {
      "cell_type": "code",
      "metadata": {
        "id": "iaRuXOnPKXVu"
      },
      "source": [
        "tsne_results = TSNE(n_components=2).fit_transform(x)\n",
        "tsne1, tsne2 = tsne_results[:,0], tsne_results[:,1]\n",
        "label = [labels[y[i]] for i in range(len(y))]\n",
        "fig, ax = plt.subplots(figsize=(13,14))\n",
        "ax.scatter(tsne1, tsne2, s=20, color='cyan')\n",
        "for i, l in enumerate(label):\n",
        "    ax.annotate(l, (tsne1[i], tsne2[i]),fontsize=12)\n",
        "ax.set_xlabel('tSNE 1')\n",
        "ax.set_ylabel('tSNE 2')\n",
        "\n"
      ],
      "execution_count": null,
      "outputs": []
    },
    {
      "cell_type": "markdown",
      "metadata": {
        "id": "FJ4W-l7fqkqX"
      },
      "source": [
        "## 4. ロジスティック回帰"
      ]
    },
    {
      "cell_type": "code",
      "metadata": {
        "id": "TV-ZDplfyoyG"
      },
      "source": [
        "from sklearn import linear_model\n",
        "\n",
        "N=10000\n",
        "X = X_train[:N]\n",
        "Y = np.copy(Y_train[:N])"
      ],
      "execution_count": null,
      "outputs": []
    },
    {
      "cell_type": "code",
      "metadata": {
        "id": "keOd7dHNyoyG"
      },
      "source": [
        "logreg = linear_model.LogisticRegression(C=1e5, verbose=10, max_iter=1e+3)\n",
        "logreg.fit(X, Y)"
      ],
      "execution_count": null,
      "outputs": []
    },
    {
      "cell_type": "code",
      "metadata": {
        "id": "0JH3wsnoyoyG"
      },
      "source": [
        "pred = logreg.predict(X_test)\n",
        "print(f'テストデータの精度: {((pred == Y_test) * 1).sum() / pred.shape[0] * 100:.3f} %')"
      ],
      "execution_count": null,
      "outputs": []
    },
    {
      "cell_type": "markdown",
      "metadata": {
        "id": "kSEZHd0CqwBY"
      },
      "source": [
        "# 5. サポートベクトルマシン"
      ]
    },
    {
      "cell_type": "code",
      "metadata": {
        "scrolled": true,
        "id": "xMhQTmiZyoyG"
      },
      "source": [
        "from sklearn.svm import LinearSVC\n",
        "\n",
        "SVC = LinearSVC()\n",
        "SVC.fit(X,Y)\n",
        "pred = SVC.predict(X_test)\n",
        "print(f'テストデータの精度: {((teach == pred) * 1).sum() / N * 100:.3f} %')"
      ],
      "execution_count": null,
      "outputs": []
    },
    {
      "cell_type": "code",
      "metadata": {
        "id": "-EFwp2ntqZc2"
      },
      "source": [
        "from google.colab import drive\n",
        "drive.mount('/content/drive')"
      ],
      "execution_count": null,
      "outputs": []
    },
    {
      "cell_type": "code",
      "metadata": {
        "id": "7hZMrBkkqGIm"
      },
      "source": [
        "!ls -lt /content/drive/MyDrive"
      ],
      "execution_count": null,
      "outputs": []
    }
  ]
}