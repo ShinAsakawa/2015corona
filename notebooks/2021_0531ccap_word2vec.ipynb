{
  "nbformat": 4,
  "nbformat_minor": 0,
  "metadata": {
    "kernelspec": {
      "display_name": "Python 3",
      "language": "python",
      "name": "python3"
    },
    "language_info": {
      "codemirror_mode": {
        "name": "ipython",
        "version": 3
      },
      "file_extension": ".py",
      "mimetype": "text/x-python",
      "name": "python",
      "nbconvert_exporter": "python",
      "pygments_lexer": "ipython3",
      "version": "3.7.9"
    },
    "colab": {
      "name": "2021_0531ccap_word2vec.ipynb",
      "provenance": [],
      "include_colab_link": true
    }
  },
  "cells": [
    {
      "cell_type": "markdown",
      "metadata": {
        "id": "view-in-github",
        "colab_type": "text"
      },
      "source": [
        "<a href=\"https://colab.research.google.com/github/ShinAsakawa/2015corona/blob/master/notebooks/2021_0531ccap_word2vec.ipynb\" target=\"_parent\"><img src=\"https://colab.research.google.com/assets/colab-badge.svg\" alt=\"Open In Colab\"/></a>"
      ]
    },
    {
      "cell_type": "markdown",
      "metadata": {
        "id": "HCd-RXCh96wZ"
      },
      "source": [
        "# 2021年5月版 word2vec デモ\n",
        "\n",
        "- date: 2021_0510\n",
        "- filename: 2021_0530ccap_word2vec.pynb\n",
        "- author: 浅川伸一\n",
        "- 概要:"
      ]
    },
    {
      "cell_type": "code",
      "metadata": {
        "id": "WIJhTDSlvmJm",
        "outputId": "8c3f3f66-6b0e-4b7d-8e03-2c8fe8d1d38a",
        "colab": {
          "base_uri": "https://localhost:8080/"
        }
      },
      "source": [
        "#colab 上で MeCab をインストール際に，次行をコメントアウト\n",
        "!pip install mecab-python3==0.996.3\n",
        "import MeCab\n",
        "\n",
        "!pip install jaconv.       #単語をカタカナに変換するために使用するライブラリ\n",
        "!pip install Levenshtein.  #レーベンシュタイン距離を算出するライブラリ"
      ],
      "execution_count": 9,
      "outputs": [
        {
          "output_type": "stream",
          "text": [
            "Collecting mecab-python3==0.996.3\n",
            "\u001b[?25l  Downloading https://files.pythonhosted.org/packages/f3/65/45375bcb381d3592126a77d2383d69c718eb950935ff015f4d7afb2a7e50/mecab_python3-0.996.3-cp37-cp37m-manylinux2010_x86_64.whl (17.1MB)\n",
            "\u001b[K     |████████████████████████████████| 17.1MB 236kB/s \n",
            "\u001b[?25hInstalling collected packages: mecab-python3\n",
            "Successfully installed mecab-python3-0.996.3\n"
          ],
          "name": "stdout"
        }
      ]
    },
    {
      "cell_type": "code",
      "metadata": {
        "id": "typUIMFS0x3t"
      },
      "source": [
        "!wget --no-check-certificate --load-cookies /tmp/cookies.txt \"https://docs.google.com/uc?export=download&confirm=$(wget --quiet --save-cookies /tmp/cookies.txt --keep-session-cookies --no-check-certificate 'https://docs.google.com/uc?export=download&id=1B9HGhLZOja4Xku5c_d-kMhCXn1LBZgDb' -O- | sed -rn 's/.*confirm=([0-9A-Za-z_]+).*/\\1\\n/p')&id=1B9HGhLZOja4Xku5c_d-kMhCXn1LBZgDb\" -O 2021_05jawiki_hid128_win10_neg10_cbow.bin.gz && rm -rf /tmp/cookies.txt\n",
        "#!wget --no-check-certificate --load-cookies /tmp/cookies.txt \"https://docs.google.com/uc?export=download&confirm=$(wget --quiet --save-cookies /tmp/cookies.txt --keep-session-cookies --no-check-certificate 'https://docs.google.com/uc?export=download&id=1OWmFOVRC6amCxsomcRwdA6ILAA5s4y4M' -O- | sed -rn 's/.*confirm=([0-9A-Za-z_]+).*/\\1\\n/p')&id=1OWmFOVRC6amCxsomcRwdA6ILAA5s4y4M\" -O 2021_05jawiki_hid128_win10_neg10_sgns.bin.gz && rm -rf /tmp/cookies.txt\n",
        "#!wget --no-check-certificate --load-cookies /tmp/cookies.txt \"https://docs.google.com/uc?export=download&confirm=$(wget --quiet --save-cookies /tmp/cookies.txt --keep-session-cookies --no-check-certificate 'https://docs.google.com/uc?export=download&id=1JTkU5SUBU2GkURCYeHkAWYs_Zlbqob0s' -O- | sed -rn 's/.*confirm=([0-9A-Za-z_]+).*/\\1\\n/p')&id=1JTkU5SUBU2GkURCYeHkAWYs_Zlbqob0s\" -O 2021_05jawiki_hid200_win20_neg20_cbow.bin.gz && rm -rf /tmp/cookies.txt\n",
        "#!wget --no-check-certificate --load-cookies /tmp/cookies.txt \"https://docs.google.com/uc?export=download&confirm=$(wget --quiet --save-cookies /tmp/cookies.txt --keep-session-cookies --no-check-certificate 'https://docs.google.com/uc?export=download&id=1VPL2Mr9JgWHik9HjRmcADoxXIdrQ3ds7' -O- | sed -rn 's/.*confirm=([0-9A-Za-z_]+).*/\\1\\n/p')&id=1VPL2Mr9JgWHik9HjRmcADoxXIdrQ3ds7\" -O 2021_05jawiki_hid200_win20_neg20_sgns.bin.gz && rm -rf /tmp/cookies.txt"
      ],
      "execution_count": null,
      "outputs": []
    },
    {
      "cell_type": "code",
      "metadata": {
        "id": "Z6q-E4UPzKn_"
      },
      "source": [
        "%time\n",
        "import numpy as np\n",
        "# 表示精度桁数の設定\n",
        "np.set_printoptions(suppress=False, formatter={'float': '{:6.3f}'.format})\n",
        "\n",
        "# word2vec データ処理のため gensim を使う\n",
        "import os\n",
        "import sys\n",
        "from gensim.models import KeyedVectors\n",
        "from gensim.models import Word2Vec\n",
        "\n",
        "import Levenshtein\n",
        "import jaconv\n",
        "\n",
        "print('# word2vec データの読み込み')\n",
        "print('# 訓練済 word2vec，訓練データは wikipedia 全文  読み込みに時間がかかります...', end=\"\")\n",
        "# ファイルの所在に応じて変更してください\n",
        "w2v_base = '.'\n",
        "w2v_file='2021_05jawiki_hid128_win10_neg10_cbow.bin.gz'\n",
        "#w2v_file='2021_05jawiki_hid128_win10_neg10_sgns.bin.gz'\n",
        "#w2v_file='2021_05jawiki_hid200_win20_neg20_cbow.bin.gz'\n",
        "#w2v_file='2021_05jawiki_hid200_win20_neg20_sgns.bin.gz'\n",
        "asakawa_w2v_file = os.path.join(w2v_base, w2v_file)\n",
        "asakawa_w2v = KeyedVectors.load_word2vec_format(asakawa_w2v_file, \n",
        "                                                encoding='utf-8', \n",
        "                                                unicode_errors='replace',\n",
        "                                                binary=True) \n",
        "\n",
        "w2v = asakawa_w2v\n",
        "print('done')"
      ],
      "execution_count": null,
      "outputs": []
    },
    {
      "cell_type": "code",
      "metadata": {
        "id": "VPdSNZrB5NjJ"
      },
      "source": [
        "#以下は操作例です。\n",
        "\n",
        "word = '鬼滅の刃' #入力単語\n",
        "topn = 10.       #類似度が高い順に何語出力するか\n",
        "word = input('単語を入力してください')\n",
        "w2v.most_similar(word)"
      ],
      "execution_count": null,
      "outputs": []
    },
    {
      "cell_type": "code",
      "metadata": {
        "id": "bwARuxBfLtdj"
      },
      "source": [
        "w2v.most_similar(positive=('王','女'), negative=('男'))"
      ],
      "execution_count": null,
      "outputs": []
    },
    {
      "cell_type": "code",
      "metadata": {
        "id": "NicK62d-Mija"
      },
      "source": [
        "w2v.most_similar(positive=('早稲田大学','関西'), negative=('関東'))"
      ],
      "execution_count": null,
      "outputs": []
    },
    {
      "cell_type": "code",
      "metadata": {
        "id": "66v0Fxv7NblH"
      },
      "source": [
        "w2v.most_similar(positive=('ジャイアンツ','アメリカ合衆国'), negative=('日本'))"
      ],
      "execution_count": null,
      "outputs": []
    },
    {
      "cell_type": "code",
      "metadata": {
        "id": "IShDULFQN8G_"
      },
      "source": [
        "w2v.most_similar(positive=('鬼滅の刃'))"
      ],
      "execution_count": null,
      "outputs": []
    },
    {
      "cell_type": "code",
      "metadata": {
        "id": "bYTotbNn-bFh",
        "outputId": "846944cf-9c99-4267-fa9a-fb597e3549b6",
        "colab": {
          "base_uri": "https://localhost:8080/"
        }
      },
      "source": [
        "# word2vec の類似語上位 topn 語の読みを元にレーベンシュタイン距離を算出して表示\n",
        "target = input('レーベンシュタイン距離を求めるデモです。単語を入力してください ')\n",
        "mecabtagger = MeCab.Tagger('-Oyomi')\n",
        "target_k = mecabtagger.parse(target).strip()\n",
        "word_list = [ent[0] for ent in w2v.most_similar(target,topn=20)]\n",
        "word_list_k = [mecabtagger.parse(w).strip() for w in word_list]\n",
        "distances = [Levenshtein.distance(target_k, w) for w in word_list_k]\n",
        "word_list_s = [word_list[i] for i in  np.argsort(distances)[::-1]]\n",
        "\n",
        "print(f'ターゲット語:{target} {target_k}')\n",
        "for i, w in enumerate(word_list_s):\n",
        "    print(f'{i+1:2d}, {word_list[i]}, ({word_list_k[i]})')"
      ],
      "execution_count": 64,
      "outputs": [
        {
          "output_type": "stream",
          "text": [
            "レーベンシュタイン距離を求めるデモです。単語を入力してください 鬼滅の刃\n",
            "ターゲット語:鬼滅の刃 オニメツノハ\n",
            " 1, 僕のヒーローアカデミア, (ボクノヒーローアカデミア)\n",
            " 2, 進撃の巨人, (シンゲキノキョジン)\n",
            " 3, 新幹線変形ロボ, (シンカンセンヘンケイロボ)\n",
            " 4, ゆるキャン△, (ユルキャン△)\n",
            " 5, 神のみぞ知るセカイ, (カミノミゾシルセカイ)\n",
            " 6, 銀河鉄道物語, (ギンガテツドウモノガタリ)\n",
            " 7, ロボットガールズZ, (ロボットガールズZ)\n",
            " 8, 吾峠呼世晴, (ワレトウゲコヨハレ)\n",
            " 9, 涼宮ハルヒちゃんの憂鬱, (リョウミヤハルヒチャンノユウウツ)\n",
            "10, 秘密結社鷹の爪, (ヒミツケッシャタカノツメ)\n",
            "11, ブルーピリオド, (ブルーピリオド)\n",
            "12, ラブライブ!サンシャイン!!, (ラブライブ!サンシャイン!!)\n",
            "13, ぼのぼの, (ボノボノ)\n",
            "14, 弱虫ペダル, (ヨワムシペダル)\n",
            "15, 新ウルトラマン列伝, (シンウルトラマンレツデン)\n",
            "16, ラブライブ!, (ラブライブ!)\n",
            "17, 花咲くいろは, (ハナサクイロハ)\n",
            "18, 斉木楠雄のΨ難, (サイキクスノキツヨシノプサイナン)\n",
            "19, ハイキュー!!, (ハイキュー!!)\n",
            "20, ポケモン映画, (ポケモンエイガ)\n"
          ],
          "name": "stdout"
        }
      ]
    },
    {
      "cell_type": "code",
      "metadata": {
        "id": "4iny5psvM2QD"
      },
      "source": [
        ""
      ],
      "execution_count": null,
      "outputs": []
    }
  ]
}