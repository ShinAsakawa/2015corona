{
  "nbformat": 4,
  "nbformat_minor": 0,
  "metadata": {
    "kernelspec": {
      "display_name": "Python 3",
      "language": "python",
      "name": "python3"
    },
    "language_info": {
      "codemirror_mode": {
        "name": "ipython",
        "version": 3
      },
      "file_extension": ".py",
      "mimetype": "text/x-python",
      "name": "python",
      "nbconvert_exporter": "python",
      "pygments_lexer": "ipython3",
      "version": "3.7.9"
    },
    "colab": {
      "name": "2021_0531ccap_word2vec.ipynb",
      "provenance": [],
      "include_colab_link": true
    }
  },
  "cells": [
    {
      "cell_type": "markdown",
      "metadata": {
        "id": "view-in-github",
        "colab_type": "text"
      },
      "source": [
        "<a href=\"https://colab.research.google.com/github/ShinAsakawa/2015corona/blob/master/notebooks/2021_0531ccap_word2vec.ipynb\" target=\"_parent\"><img src=\"https://colab.research.google.com/assets/colab-badge.svg\" alt=\"Open In Colab\"/></a>"
      ]
    },
    {
      "cell_type": "markdown",
      "metadata": {
        "id": "HCd-RXCh96wZ"
      },
      "source": [
        "# 2021年5月版 word2vec デモ\n",
        "\n",
        "- date: 2021_0510\n",
        "- filename: 2021_0530ccap_word2vec.pynb\n",
        "- author: 浅川伸一\n",
        "- 概要:"
      ]
    },
    {
      "cell_type": "code",
      "metadata": {
        "id": "WIJhTDSlvmJm"
      },
      "source": [
        "#colab 上で MeCab をインストール際に，次行をコメントアウト\n",
        "!pip install mecab-python3==0.996.3\n",
        "import MeCab"
      ],
      "execution_count": null,
      "outputs": []
    },
    {
      "cell_type": "code",
      "metadata": {
        "id": "typUIMFS0x3t"
      },
      "source": [
        "!wget --no-check-certificate --load-cookies /tmp/cookies.txt \"https://docs.google.com/uc?export=download&confirm=$(wget --quiet --save-cookies /tmp/cookies.txt --keep-session-cookies --no-check-certificate 'https://docs.google.com/uc?export=download&id=1B9HGhLZOja4Xku5c_d-kMhCXn1LBZgDb' -O- | sed -rn 's/.*confirm=([0-9A-Za-z_]+).*/\\1\\n/p')&id=1B9HGhLZOja4Xku5c_d-kMhCXn1LBZgDb\" -O 2021_05jawiki_hid128_win10_neg10_cbow.bin.gz && rm -rf /tmp/cookies.txt\n",
        "#!wget --no-check-certificate --load-cookies /tmp/cookies.txt \"https://docs.google.com/uc?export=download&confirm=$(wget --quiet --save-cookies /tmp/cookies.txt --keep-session-cookies --no-check-certificate 'https://docs.google.com/uc?export=download&id=1OWmFOVRC6amCxsomcRwdA6ILAA5s4y4M' -O- | sed -rn 's/.*confirm=([0-9A-Za-z_]+).*/\\1\\n/p')&id=1OWmFOVRC6amCxsomcRwdA6ILAA5s4y4M\" -O 2021_05jawiki_hid128_win10_neg10_sgns.bin.gz && rm -rf /tmp/cookies.txt\n",
        "#!wget --no-check-certificate --load-cookies /tmp/cookies.txt \"https://docs.google.com/uc?export=download&confirm=$(wget --quiet --save-cookies /tmp/cookies.txt --keep-session-cookies --no-check-certificate 'https://docs.google.com/uc?export=download&id=1JTkU5SUBU2GkURCYeHkAWYs_Zlbqob0s' -O- | sed -rn 's/.*confirm=([0-9A-Za-z_]+).*/\\1\\n/p')&id=1JTkU5SUBU2GkURCYeHkAWYs_Zlbqob0s\" -O 2021_05jawiki_hid200_win20_neg20_cbow.bin.gz && rm -rf /tmp/cookies.txt\n",
        "#!wget --no-check-certificate --load-cookies /tmp/cookies.txt \"https://docs.google.com/uc?export=download&confirm=$(wget --quiet --save-cookies /tmp/cookies.txt --keep-session-cookies --no-check-certificate 'https://docs.google.com/uc?export=download&id=1VPL2Mr9JgWHik9HjRmcADoxXIdrQ3ds7' -O- | sed -rn 's/.*confirm=([0-9A-Za-z_]+).*/\\1\\n/p')&id=1VPL2Mr9JgWHik9HjRmcADoxXIdrQ3ds7\" -O 2021_05jawiki_hid200_win20_neg20_sgns.bin.gz && rm -rf /tmp/cookies.txt"
      ],
      "execution_count": null,
      "outputs": []
    },
    {
      "cell_type": "code",
      "metadata": {
        "id": "Z6q-E4UPzKn_"
      },
      "source": [
        "%time\n",
        "import numpy as np\n",
        "# 表示精度桁数の設定\n",
        "np.set_printoptions(suppress=False, formatter={'float': '{:6.3f}'.format})\n",
        "\n",
        "# word2vec データ処理のため gensim を使う\n",
        "import os\n",
        "import sys\n",
        "from gensim.models import KeyedVectors\n",
        "from gensim.models import Word2Vec\n",
        "\n",
        "print('# word2vec データの読み込み')\n",
        "print('# 訓練済 word2vec，訓練データは wikipedia 全文  読み込みに時間がかかります...', end=\"\")\n",
        "# ファイルの所在に応じて変更してください\n",
        "w2v_base = '.'\n",
        "w2v_file='2021_05jawiki_hid128_win10_neg10_cbow.bin.gz'\n",
        "#w2v_file='2021_05jawiki_hid128_win10_neg10_sgns.bin.gz'\n",
        "#w2v_file='2021_05jawiki_hid200_win20_neg20_cbow.bin.gz'\n",
        "#w2v_file='2021_05jawiki_hid200_win20_neg20_sgns.bin.gz'\n",
        "asakawa_w2v_file = os.path.join(w2v_base, w2v_file)\n",
        "asakawa_w2v = KeyedVectors.load_word2vec_format(asakawa_w2v_file, \n",
        "                                                encoding='utf-8', \n",
        "                                                unicode_errors='replace',\n",
        "                                                binary=True) \n",
        "\n",
        "w2v = asakawa_w2v\n",
        "print('done')"
      ],
      "execution_count": null,
      "outputs": []
    },
    {
      "cell_type": "code",
      "metadata": {
        "id": "VPdSNZrB5NjJ"
      },
      "source": [
        "#以下は操作例です。\n",
        "\n",
        "word = '鬼滅の刃' #入力単語\n",
        "topn = 10.       #類似度が高い順に何語出力するか\n",
        "word = input('単語を入力してください')\n",
        "w2v.most_similar(word)"
      ],
      "execution_count": null,
      "outputs": []
    },
    {
      "cell_type": "code",
      "metadata": {
        "id": "bwARuxBfLtdj"
      },
      "source": [
        "w2v.most_similar(positive=('王','女'), negative=('男'))"
      ],
      "execution_count": null,
      "outputs": []
    },
    {
      "cell_type": "code",
      "metadata": {
        "id": "NicK62d-Mija"
      },
      "source": [
        "w2v.most_similar(positive=('早稲田大学','関西'), negative=('関東'))"
      ],
      "execution_count": null,
      "outputs": []
    },
    {
      "cell_type": "code",
      "metadata": {
        "id": "66v0Fxv7NblH"
      },
      "source": [
        "w2v.most_similar(positive=('ジャイアンツ','アメリカ合衆国'), negative=('日本'))"
      ],
      "execution_count": null,
      "outputs": []
    },
    {
      "cell_type": "code",
      "metadata": {
        "id": "IShDULFQN8G_"
      },
      "source": [
        "w2v.most_similar(positive=('鬼滅の刃'))"
      ],
      "execution_count": null,
      "outputs": []
    },
    {
      "cell_type": "code",
      "metadata": {
        "id": "NeNfECo9OJKD",
        "colab": {
          "base_uri": "https://localhost:8080/"
        },
        "outputId": "afb2ed8f-e2ad-4af7-b5a3-3d3d339d6f45"
      },
      "source": [
        "w2v.vector_size"
      ],
      "execution_count": null,
      "outputs": [
        {
          "output_type": "execute_result",
          "data": {
            "text/plain": [
              "200"
            ]
          },
          "metadata": {
            "tags": []
          },
          "execution_count": 26
        }
      ]
    },
    {
      "cell_type": "code",
      "metadata": {
        "id": "SV5Np8H_OVgt"
      },
      "source": [
        ""
      ],
      "execution_count": null,
      "outputs": []
    }
  ]
}